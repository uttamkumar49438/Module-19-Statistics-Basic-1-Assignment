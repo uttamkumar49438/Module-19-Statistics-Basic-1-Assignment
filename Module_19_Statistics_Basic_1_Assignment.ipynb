{
  "nbformat": 4,
  "nbformat_minor": 0,
  "metadata": {
    "colab": {
      "provenance": []
    },
    "kernelspec": {
      "name": "python3",
      "display_name": "Python 3"
    },
    "language_info": {
      "name": "python"
    }
  },
  "cells": [
    {
      "cell_type": "markdown",
      "source": [
        "Q1. What is Statistics?"
      ],
      "metadata": {
        "id": "A2HZOFeW3Pt9"
      }
    },
    {
      "cell_type": "markdown",
      "source": [
        "\n",
        "Statistics is a branch of mathematics that deals with the collection, analysis, interpretation, presentation, and organization of data. It involves methods for gathering data from various sources, summarizing the data using descriptive statistics, and making inferences or decisions based on the data using inferential statistics."
      ],
      "metadata": {
        "id": "78VCgljE3Q9t"
      }
    },
    {
      "cell_type": "markdown",
      "source": [
        "Q2. Define the different types of statistics and give an example of when each type might be used."
      ],
      "metadata": {
        "id": "7S6tk_S03Ysl"
      }
    },
    {
      "cell_type": "markdown",
      "source": [
        "- Descriptive Statistics:\n",
        "- Inferential Statistics:\n",
        "-"
      ],
      "metadata": {
        "id": "Je73-x9m3cOW"
      }
    },
    {
      "cell_type": "markdown",
      "source": [
        "Q3. What are the different types of data and how do they differ from each other? Provide an example of\n",
        "each type of data."
      ],
      "metadata": {
        "id": "8t7pv-UR3uZe"
      }
    },
    {
      "cell_type": "markdown",
      "source": [
        "- Nominal Data:\n",
        "Nominal data, also known as categorical data, consists of categories or labels with no inherent order or ranking.\n",
        "\n",
        "- Ordinal Data:\n",
        "Ordinal data represents categories with a meaningful order or ranking. While the categories have a natural order, the differences between them may not be equal or measurable.\n",
        "\n",
        "- Interval data represents numerical values where the differences between consecutive values are consistent and measurable.\n",
        "\n",
        "-Ratio data is similar to interval data but includes a true zero point, indicating the absence of the attribute being measured."
      ],
      "metadata": {
        "id": "tPfKexF13vrG"
      }
    },
    {
      "cell_type": "markdown",
      "source": [
        "Q4. Categorise the following datasets with respect to quantitative and qualitative data types:\n",
        "(i) Grading in exam: A+, A, B+, B, C+, C, D, E\n",
        "(ii) Colour of mangoes: yellow, green, orange, red\n",
        "(iii) Height data of a class: [178.9, 179, 179.5, 176, 177.2, 178.3, 175.8,...]\n",
        "(iv) Number of mangoes exported by a farm: [500, 600, 478, 672, ...]"
      ],
      "metadata": {
        "id": "MfDDJkxH4DT0"
      }
    },
    {
      "cell_type": "markdown",
      "source": [
        "i) Grading in exam:\n",
        "\n",
        "Data Type: Qualitative (Ordinal)\n",
        "\n",
        "ii) Colour of mangoes:\n",
        "\n",
        "Data Type: Qualitative (Nominal)\n",
        "\n",
        "(iii) Height data of a class:\n",
        "\n",
        "Data Type: Quantitative (Continuous, Ratio)\n",
        "\n",
        "(iv) Number of mangoes exported by a farm:\n",
        "\n",
        "Data Type: Quantitative (Discrete, Ratio)"
      ],
      "metadata": {
        "id": "fAm7g5U84JMr"
      }
    },
    {
      "cell_type": "markdown",
      "source": [
        "Q5. Explain the concept of levels of measurement and give an example of a variable for each level."
      ],
      "metadata": {
        "id": "Wa0_GbGe4acY"
      }
    },
    {
      "cell_type": "markdown",
      "source": [
        "\n",
        "Levels of measurement, also known as scales of measurement, categorize variables based on the nature of the data they represent. There are four main levels of measurement: nominal, ordinal, interval, and ratio"
      ],
      "metadata": {
        "id": "MIGZlR1x4fLp"
      }
    },
    {
      "cell_type": "markdown",
      "source": [
        "Q6. Why is it important to understand the level of measurement when analyzing data? Provide an\n",
        "example to illustrate your answer."
      ],
      "metadata": {
        "id": "YPMvpcJC4juZ"
      }
    },
    {
      "cell_type": "markdown",
      "source": [
        "Understanding the level of measurement is crucial in data analysis because it determines the type of statistical analyses and operations that can be performed on the data. Different levels of measurement require different statistical techniques, and using inappropriate analyses can lead to erroneous conclusions or misinterpretations of the data."
      ],
      "metadata": {
        "id": "rbj4O_Io4qy3"
      }
    },
    {
      "cell_type": "markdown",
      "source": [
        "Q7. How nominal data type is different from ordinal data type."
      ],
      "metadata": {
        "id": "an9eD_CK4wFz"
      }
    },
    {
      "cell_type": "markdown",
      "source": [
        "nominal data represent categories without any inherent order, while ordinal data maintain a specific order or ranking among categories. Understanding the distinction between nominal and ordinal data is essential for choosing appropriate statistical analyses and interpreting the results accurately."
      ],
      "metadata": {
        "id": "7od-lSRe4zZt"
      }
    },
    {
      "cell_type": "markdown",
      "source": [
        "Q8. Which type of plot can be used to display data in terms of range?"
      ],
      "metadata": {
        "id": "MvWMtMFQ48HL"
      }
    },
    {
      "cell_type": "markdown",
      "source": [
        "A box plot is particularly useful for comparing the distributions of multiple datasets or identifying any skewness, variability, or outliers present in the data."
      ],
      "metadata": {
        "id": "7Oqe7k3C4_g0"
      }
    },
    {
      "cell_type": "markdown",
      "source": [
        "Q9. Describe the difference between descriptive and inferential statistics. Give an example of each\n",
        "type of statistics and explain how they are used."
      ],
      "metadata": {
        "id": "DGZYKmZa5ID5"
      }
    },
    {
      "cell_type": "markdown",
      "source": [
        "descriptive statistics describe the main features of a dataset, while inferential statistics allow researchers to make inferences or predictions about populations based on sample data. Both types of statistics are important in drawing conclusions and making decisions in research and data analysis."
      ],
      "metadata": {
        "id": "Ei3cdV0T5N--"
      }
    },
    {
      "cell_type": "markdown",
      "source": [
        "Q10. What are some common measures of central tendency and variability used in statistics? Explain\n",
        "how each measure can be used to describe a dataset."
      ],
      "metadata": {
        "id": "5UHgDajV5U3G"
      }
    },
    {
      "cell_type": "markdown",
      "source": [
        "Common measures of central tendency include:\n",
        "\n",
        "= Mean:\n",
        "The mean, or average, is calculated by summing all values in a dataset and dividing by the total number of values.\n",
        "It provides a measure of the central value around which data points tend to cluster.\n",
        "The mean is sensitive to outliers, meaning that extreme values can significantly affect its value.\n",
        "= Median:\n",
        "The median is the middle value in a sorted dataset. If the dataset has an even number of values, the median is the average of the two middle values.\n",
        "It represents the value that separates the higher half from the lower half of the dataset.\n",
        "The median is less affected by outliers compared to the mean, making it a more robust measure of central tendency, especially in skewed distributions.\n",
        "= Mode:\n",
        "The mode is the most frequently occurring value in a dataset.\n",
        "It provides insight into the most common or prevalent value in the dataset.\n",
        "A dataset may have one mode (unimodal), two modes (bimodal), or more than two modes (multimodal), or it may have no mode if all values occur with the same frequency."
      ],
      "metadata": {
        "id": "HveJTnfw5zL4"
      }
    }
  ]
}